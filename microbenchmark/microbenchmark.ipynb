{
 "cells": [
  {
   "cell_type": "markdown",
   "metadata": {
    "slideshow": {
     "slide_type": "slide"
    }
   },
   "source": [
    "#Microbenchmarking\n",
    "###Julia vs. R\n",
    "\n",
    ">In computing, a *benchmark* is the act of running a computer program, a set of programs, or other operations, in order to assess the relative performance of an object, normally by running a number of standard tests and trials against it."
   ]
  },
  {
   "cell_type": "markdown",
   "metadata": {
    "slideshow": {
     "slide_type": "slide"
    }
   },
   "source": [
    "# Agenda\n",
    " - Julia performance dos and don'ts\n",
    " - Rules of the game\n",
    " - Tests\n",
    " - Results\n",
    " - Comments\n",
    " \n",
    " "
   ]
  },
  {
   "cell_type": "markdown",
   "metadata": {
    "slideshow": {
     "slide_type": "slide"
    }
   },
   "source": [
    "# Julia performance dos and don'ts\n",
    "These are suggestions from [docs.julialang.org](http://docs.julialang.org/en/latest/manual/performance-tips/)"
   ]
  },
  {
   "cell_type": "markdown",
   "metadata": {
    "slideshow": {
     "slide_type": "subslide"
    }
   },
   "source": [
    "# Avoid global variables\n",
    " - Variables should be local, or passed as arguments to functions, whenever possible\n",
    " - Any code that is performance-critical or being benchmarked should be inside a function"
   ]
  },
  {
   "cell_type": "markdown",
   "metadata": {
    "slideshow": {
     "slide_type": "subslide"
    }
   },
   "source": [
    "# Measure performance with `@time`\n",
    " - `@time` reports time as well as memory allocation\n",
    " - This is the single biggest advantage of `@time` vs. functions like `tic` and `toc`"
   ]
  },
  {
   "cell_type": "markdown",
   "metadata": {
    "slideshow": {
     "slide_type": "subslide"
    }
   },
   "source": [
    "# Run everything twice\n",
    " - On the first call everything gets compiled \n",
    " - You should not take the results of this run seriously"
   ]
  },
  {
   "cell_type": "markdown",
   "metadata": {
    "slideshow": {
     "slide_type": "subslide"
    }
   },
   "source": [
    "# Avoid containers with abstract type parameters\n",
    " - Since abstract objects can be of arbitrary size and structure, they must be represented as an array of pointers to individually allocated objects; this is slow\n",
    " - Defining a type will create a contiguous block of values that can be manipulated efficiently"
   ]
  },
  {
   "cell_type": "markdown",
   "metadata": {
    "slideshow": {
     "slide_type": "subslide"
    }
   },
   "source": [
    "# Break functions up\n",
    "- Writing a function as many small definitions allows the compiler to directly call the most applicable code, or even inline it"
   ]
  },
  {
   "cell_type": "markdown",
   "metadata": {
    "slideshow": {
     "slide_type": "slide"
    }
   },
   "source": [
    "# Rules of the game\n",
    " - Attempt to follow best practices for both languages\n",
    " - **Except**, no Hadley code in R\n",
    " - Run each task 100x\n",
    " - My computer: Lenovo desktop, Ubuntu 14.04 LTS, 3.6 GiB Memory"
   ]
  },
  {
   "cell_type": "markdown",
   "metadata": {
    "slideshow": {
     "slide_type": "slide"
    }
   },
   "source": [
    "# Tests\n",
    " 1. Recursive Fibonacci \n",
    " 2. Array construction\n",
    " 1. Matrix multiplication and transpose\n",
    " 1. Dot product of vectors\n",
    " 1. Statistics on a random matrix"
   ]
  },
  {
   "cell_type": "markdown",
   "metadata": {
    "slideshow": {
     "slide_type": "subslide"
    }
   },
   "source": [
    "#1. Recursive fibonacci\n",
    "###Julia"
   ]
  },
  {
   "cell_type": "code",
   "execution_count": 1,
   "metadata": {
    "collapsed": false
   },
   "outputs": [
    {
     "data": {
      "text/plain": [
       "fib (generic function with 1 method)"
      ]
     },
     "execution_count": 1,
     "metadata": {},
     "output_type": "execute_result"
    }
   ],
   "source": [
    "function fib(n) \n",
    "    n < 2 ? n : fib(n-1) + fib(n-2)\n",
    "end\n"
   ]
  },
  {
   "cell_type": "markdown",
   "metadata": {
    "slideshow": {
     "slide_type": "-"
    }
   },
   "source": [
    "###R"
   ]
  },
  {
   "cell_type": "code",
   "execution_count": 1,
   "metadata": {
    "collapsed": true
   },
   "outputs": [],
   "source": [
    "fib <- function(n) {\n",
    "    if(n < 2) {\n",
    "        return(n)\n",
    "    } else {\n",
    "        return(fib(n-1) + fib(n-2))\n",
    "    }\n",
    "}"
   ]
  },
  {
   "cell_type": "markdown",
   "metadata": {
    "slideshow": {
     "slide_type": "subslide"
    }
   },
   "source": [
    "#2. Array construction\n",
    "###Julia"
   ]
  },
  {
   "cell_type": "code",
   "execution_count": 1,
   "metadata": {
    "collapsed": false
   },
   "outputs": [
    {
     "data": {
      "text/plain": [
       "array_construct (generic function with 1 method)"
      ]
     },
     "execution_count": 1,
     "metadata": {},
     "output_type": "execute_result"
    }
   ],
   "source": [
    "function array_construct(n)\n",
    "    ones(n, n)\n",
    "end"
   ]
  },
  {
   "cell_type": "markdown",
   "metadata": {
    "slideshow": {
     "slide_type": "-"
    }
   },
   "source": [
    "###R"
   ]
  },
  {
   "cell_type": "code",
   "execution_count": 1,
   "metadata": {
    "collapsed": true
   },
   "outputs": [],
   "source": [
    "matrix(1, 200, 200)\n"
   ]
  },
  {
   "cell_type": "markdown",
   "metadata": {
    "slideshow": {
     "slide_type": "subslide"
    }
   },
   "source": [
    "#3. Matrix multiplication and transpose"
   ]
  },
  {
   "cell_type": "markdown",
   "metadata": {},
   "source": [
    "###Julia"
   ]
  },
  {
   "cell_type": "code",
   "execution_count": 2,
   "metadata": {
    "collapsed": false
   },
   "outputs": [
    {
     "data": {
      "text/plain": [
       "mat_mult (generic function with 1 method)"
      ]
     },
     "execution_count": 2,
     "metadata": {},
     "output_type": "execute_result"
    }
   ],
   "source": [
    "function mat_mult(n) \n",
    "    A = array_construct(n);\n",
    "    A*A'\n",
    "end"
   ]
  },
  {
   "cell_type": "markdown",
   "metadata": {},
   "source": [
    "###R"
   ]
  },
  {
   "cell_type": "code",
   "execution_count": null,
   "metadata": {
    "collapsed": true
   },
   "outputs": [],
   "source": [
    " A <- matrix(1, 200, 200)\n",
    " A%*%t(A)"
   ]
  },
  {
   "cell_type": "markdown",
   "metadata": {
    "slideshow": {
     "slide_type": "subslide"
    }
   },
   "source": [
    "#4. Dot product of vectors"
   ]
  },
  {
   "cell_type": "markdown",
   "metadata": {
    "slideshow": {
     "slide_type": "-"
    }
   },
   "source": [
    "###Julia"
   ]
  },
  {
   "cell_type": "code",
   "execution_count": 1,
   "metadata": {
    "collapsed": false
   },
   "outputs": [
    {
     "data": {
      "text/plain": [
       "inner (generic function with 1 method)"
      ]
     },
     "execution_count": 1,
     "metadata": {},
     "output_type": "execute_result"
    }
   ],
   "source": [
    "function inner(x, y)\n",
    "    result = 0.0\n",
    "    for i=1:length(x)\n",
    "        result += x[i] * y[i]\n",
    "    end\n",
    "    result\n",
    "end"
   ]
  },
  {
   "cell_type": "markdown",
   "metadata": {},
   "source": [
    "###R"
   ]
  },
  {
   "cell_type": "code",
   "execution_count": null,
   "metadata": {
    "collapsed": true
   },
   "outputs": [],
   "source": [
    "x <- rnorm(10000000)\n",
    "y <- rnorm(10000000)\n",
    "x %*% y"
   ]
  },
  {
   "cell_type": "markdown",
   "metadata": {
    "slideshow": {
     "slide_type": "subslide"
    }
   },
   "source": [
    "#5. Statistics on a random matrix"
   ]
  },
  {
   "cell_type": "markdown",
   "metadata": {},
   "source": [
    "###Julia"
   ]
  },
  {
   "cell_type": "code",
   "execution_count": 2,
   "metadata": {
    "collapsed": false
   },
   "outputs": [
    {
     "data": {
      "text/plain": [
       "rand_mat_stat (generic function with 1 method)"
      ]
     },
     "execution_count": 2,
     "metadata": {},
     "output_type": "execute_result"
    }
   ],
   "source": [
    "function rand_mat_stat(t)\n",
    "    n = 5\n",
    "    v = zeros(t)\n",
    "    w = zeros(t)\n",
    "    for i=1:t\n",
    "        a = randn(n,n)\n",
    "        b = randn(n,n)\n",
    "        c = randn(n,n)\n",
    "        d = randn(n,n)\n",
    "        P = [a b c d]\n",
    "        Q = [a b; c d]\n",
    "        v[i] = trace((P.'*P)^4)\n",
    "        w[i] = trace((Q.'*Q)^4)\n",
    "    end\n",
    "    return (std(v)/mean(v), std(w)/mean(w))\n",
    "end\n"
   ]
  },
  {
   "cell_type": "markdown",
   "metadata": {},
   "source": [
    "###R"
   ]
  },
  {
   "cell_type": "code",
   "execution_count": null,
   "metadata": {
    "collapsed": true
   },
   "outputs": [],
   "source": [
    "rand_mat_stat <- function(t) {\n",
    "  n <- 5\n",
    "  stuff <- sapply(1:t, function(i){\n",
    "    mat_a <- matrix(rnorm(n*n), n, n)\n",
    "    mat_b <- matrix(rnorm(n*n), n, n)\n",
    "    mat_c <- matrix(rnorm(n*n), n, n)\n",
    "    mat_d <- matrix(rnorm(n*n), n, n)\n",
    "    P <-cbind(mat_a, mat_b, mat_c, mat_d)\n",
    "    Q <- rbind(cbind(mat_a, mat_b),cbind(mat_c, mat_d))\n",
    "    \n",
    "    c(sum(diag((t(P)%*%P)^4)), sum(diag((t(Q)%*%Q)^4)))\n",
    "  })\n",
    "  \n",
    "  res <- apply(stuff,1,function(x) sd(x)/mean(x))\n",
    "  return(res)\n",
    "}"
   ]
  },
  {
   "cell_type": "markdown",
   "metadata": {
    "slideshow": {
     "slide_type": "slide"
    }
   },
   "source": [
    "# Results"
   ]
  },
  {
   "cell_type": "code",
   "execution_count": 1,
   "metadata": {
    "collapsed": false
   },
   "outputs": [
    {
     "data": {
      "text/plain": []
     },
     "execution_count": 1,
     "metadata": {},
     "output_type": "execute_result"
    },
    {
     "data": {
      "image/png": "[encoded data removed]"
     },
     "metadata": {},
     "output_type": "display_data"
    }
   ],
   "source": [
    "library(ggplot2)\n",
    "times <- read.csv(\"written_data/combined_benchmark_times.csv\")\n",
    "\n",
    "qplot(expr, time, data=times, geom=\"boxplot\", colour=lang)"
   ]
  },
  {
   "cell_type": "markdown",
   "metadata": {
    "slideshow": {
     "slide_type": "subslide"
    }
   },
   "source": [
    "#`inner(x, y)`"
   ]
  },
  {
   "cell_type": "code",
   "execution_count": 3,
   "metadata": {
    "collapsed": false,
    "slideshow": {
     "slide_type": "-"
    }
   },
   "outputs": [
    {
     "data": {
      "text/plain": []
     },
     "execution_count": 3,
     "metadata": {},
     "output_type": "execute_result"
    },
    {
     "data": {
      "image/png": "[encoded data removed]"
     },
     "metadata": {},
     "output_type": "display_data"
    }
   ],
   "source": [
    "times_inner <- read.csv(\"written_data/combined_benchmark_inner.csv\")\n",
    "\n",
    "qplot(as.factor(n), time, data=times_inner, geom=\"boxplot\", colour=lang)"
   ]
  },
  {
   "cell_type": "markdown",
   "metadata": {
    "slideshow": {
     "slide_type": "slide"
    }
   },
   "source": [
    "# Comments\n",
    "\n",
    "- In general, R is slower (we know this)\n",
    "- The results of these tests are dependent on the skill of the programmer in the languages\n",
    "- The type of benchmarking one chooses to run can make a language look better or worse than its competitors\n",
    "    - Notice I didn't look at any actual data\n",
    "    - **Nudge, nudge Eric**\n",
    "- [Further reading](http://economics.sas.upenn.edu/~jesusfv/comparison_languages.pdf)"
   ]
  }
 ],
 "metadata": {
  "celltoolbar": "Slideshow",
  "kernelspec": {
   "display_name": "R",
   "name": "ir"
  },
  "language": "Julia",
  "language_info": {
   "codemirror_mode": "r",
   "file_extension": "r",
   "mimetype": "text/x-r-source",
   "name": "R",
   "pygments_lexer": "r"
  },
  "signature": "sha256:4a9d2002b12bab8940bfd490af48b28a3be74fa22f77227b76a00dd75dab3043"
 },
 "nbformat": 4,
 "nbformat_minor": 0
}